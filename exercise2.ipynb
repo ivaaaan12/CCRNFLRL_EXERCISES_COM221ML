{
  "nbformat": 4,
  "nbformat_minor": 0,
  "metadata": {
    "colab": {
      "provenance": []
    },
    "kernelspec": {
      "name": "python3",
      "display_name": "Python 3"
    },
    "language_info": {
      "name": "python"
    }
  },
  "cells": [
    {
      "cell_type": "code",
      "execution_count": 298,
      "metadata": {
        "id": "vwyvn9XKrcF4"
      },
      "outputs": [],
      "source": [
        "from math import sqrt, log\n",
        "import pandas as pd"
      ]
    },
    {
      "cell_type": "code",
      "source": [
        "data = pd.DataFrame({\n",
        "    \"Pull\": [1, 2, 3, 4, 5, 6, 7, 8, 9, 10, 11, 12, 13, 14, 15, 16, 17, 18, 19, 20, 21, 22, 23, 24,25, 26, 27,28, 29, 30, 31, 32, 33,34, 35,36, 37, 38, 39, 40, 41,42,43,44,45,46,47,48,49,50],        # Pull number\n",
        "    \"Machine\": [\"A\", \"B\", \"C\", \"A\", \"B\", \"C\", \"B\", \"B\", \"A\",\"C\", \"B\", \"A\", \"C\", \"B\", \"A\", \"A\",\"C\", \"A\", \"B\", \"C\", \"A\", \"B\", \"C\",\"A\",\"B\",\"C\",\"A\",\"A\",\"A\",\"A\",\"A\",\"A\",\"A\",\"A\",\"A\",\"A\", \"A\",\"A\",\"B\", \"A\", \"C\",\"C\",\"C\",\"C\",\"B\",\"C\",\"A\",\"B\",\"A\",\"C\"], # Which machine was played\n",
        "    \"Reward\": [0, 0, 0, 0, 1, 0, 0, 0, 0, 0, 0, 0, 0, 0, 1, 0, 0, 0, 0, 0, 0, 0, 0, 0 , 0, 0, 4, 0,1, 0, 1, 1, 0,0,0,0,0,0,0,0,2,0,0,0,0,0,0,0,0,0]         # Reward received from that machine\n",
        "})"
      ],
      "metadata": {
        "id": "ooGy1G3urnnl"
      },
      "execution_count": 299,
      "outputs": []
    },
    {
      "cell_type": "code",
      "source": [
        "def calculate_ucb(df):\n",
        "    results = []\n",
        "    total_pulls = len(df)\n",
        "    machines = sorted(df[\"Machine\"].unique())\n",
        "\n",
        "    for machine in machines:\n",
        "        machine_data = df[df[\"Machine\"] == machine]\n",
        "        n_j = len(machine_data)\n",
        "        avg_reward = machine_data[\"Reward\"].mean()\n",
        "        exploration_bonus = sqrt((2 * log(total_pulls)) / n_j) if n_j > 0 else float(\"inf\")\n",
        "        ucb_score = avg_reward + exploration_bonus\n",
        "        results.append({\n",
        "            \"Machine\": machine,\n",
        "            \"Pulls\": n_j,\n",
        "            \"Avg Reward\": round(avg_reward, 2),\n",
        "            \"Exploration Bonus\": round(exploration_bonus, 4),\n",
        "            \"UCB Score\": round(ucb_score, 4)\n",
        "        })\n",
        "    return pd.DataFrame(results).sort_values(by=\"UCB Score\", ascending=False)"
      ],
      "metadata": {
        "id": "OW-wZdFVrrOt"
      },
      "execution_count": 300,
      "outputs": []
    },
    {
      "cell_type": "code",
      "source": [
        "ucb_table = calculate_ucb(data)\n",
        "print(\"📊 UCB Results Table\")\n",
        "print(ucb_table)"
      ],
      "metadata": {
        "colab": {
          "base_uri": "https://localhost:8080/"
        },
        "id": "ShBgFgB2rrgN",
        "outputId": "e781515b-495b-4809-8707-de09ebae7821"
      },
      "execution_count": 301,
      "outputs": [
        {
          "output_type": "stream",
          "name": "stdout",
          "text": [
            "📊 UCB Results Table\n",
            "  Machine  Pulls  Avg Reward  Exploration Bonus  UCB Score\n",
            "0       A     24        0.33             0.5710     0.9043\n",
            "1       B     12        0.08             0.8075     0.8908\n",
            "2       C     14        0.14             0.7476     0.8904\n"
          ]
        }
      ]
    },
    {
      "cell_type": "code",
      "source": [
        "best_machine = ucb_table.iloc[0][\"Machine\"]\n",
        "print(f\"\\n🎯 Recommended next machine to play: {best_machine}\")"
      ],
      "metadata": {
        "colab": {
          "base_uri": "https://localhost:8080/"
        },
        "id": "KIKkTswSrrxd",
        "outputId": "8f38025f-0cbd-440a-a48b-2e415814fb99"
      },
      "execution_count": 302,
      "outputs": [
        {
          "output_type": "stream",
          "name": "stdout",
          "text": [
            "\n",
            "🎯 Recommended next machine to play: A\n"
          ]
        }
      ]
    },
    {
      "cell_type": "markdown",
      "source": [
        "## REFLECTION\n"
      ],
      "metadata": {
        "id": "Ya6ZMViNNZhg"
      }
    },
    {
      "cell_type": "markdown",
      "source": [
        "After 50 spins, the machine with the highest number of pulls and the highest average reward is Machine A, the candy store machine, which has 24 pulls and an average reward of 0.33. In comparison, Machine B, the party bonus machine, has only 12 pulls and an average reward of 0.08, while Machine C, the fruit smoothie machine, has 14 pulls and an average reward of 0.14."
      ],
      "metadata": {
        "id": "nOm81piaRfwE"
      }
    }
  ]
}